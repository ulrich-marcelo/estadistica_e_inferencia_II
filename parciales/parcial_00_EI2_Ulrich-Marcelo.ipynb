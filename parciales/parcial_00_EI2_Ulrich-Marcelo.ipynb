{
 "cells": [
  {
   "cell_type": "markdown",
   "metadata": {},
   "source": [
    "# Preguntas parcial 00 EI2\n",
    "\n",
    "1) ¿Qué significa que una distribución sea conjugada de una verosimilitud (likelihood)? "
   ]
  },
  {
   "cell_type": "markdown",
   "metadata": {},
   "source": [
    "Un prior conjugado es basicamente una distribucion que, en combinacion con la likelihood, genera un posterior de la misma familia de distribuciones que el prior. Por ejemplo: un likelihood binomial y un prior Beta nos da una posterior Beta cuyos parametros son una combinacion de los parametros del prior y la likelihood."
   ]
  },
  {
   "cell_type": "markdown",
   "metadata": {},
   "source": [
    "2) ¿Por qué el resultado de un análisis Bayesiano es siempre una distribución de probabilidad y no una estimación puntual?"
   ]
  },
  {
   "cell_type": "markdown",
   "metadata": {},
   "source": [
    "Esto es asi por la idea fundamental del analisis Bayesiano: las cantidades desconocidas son modeladas como distribuciones de probabilidad. Es decir, como desconocemos el resultado del analisis (por algo lo queremos realizar), el pensarlo como una distribucion nos permite un mayor poder de generalizacion (por eso usamos intervalos de credibilidad y no un margen de error)."
   ]
  },
  {
   "cell_type": "markdown",
   "metadata": {},
   "source": [
    "\n",
    "3) En el siguiente modelo $Y$ representa los datos\n",
    "\n",
    "\\begin{align}\n",
    "Y \\sim& \\text{Poisson}(\\lambda)\\\\\n",
    "\\lambda \\sim& \\mathcal{N}(5, 1)\n",
    "\\end{align}\n",
    "\n",
    "a) Identifique la distribución a priori y el likelihood (verosimilitud)\n",
    "\n",
    "b) ¿Cúal será el dominio de la distribución a posteriori? \n",
    "\n",
    "$[0, 1]$, $[0, 5]$, $[0, \\infty)$, $(-\\infty, \\infty)$. Justifique."
   ]
  },
  {
   "cell_type": "markdown",
   "metadata": {},
   "source": [
    "a) el prior es lambda con distirbucion Normal(5,1) y la likelihood es la Y con distribucion de Poisson. Es facil de ver porque lambda es el parametro que usa la Poisson.\n"
   ]
  },
  {
   "cell_type": "markdown",
   "metadata": {},
   "source": [
    "4) ¿Qué representa la distribución predictiva a posteriori? En que se diferencia de la distribución a posteriori?"
   ]
  },
  {
   "cell_type": "markdown",
   "metadata": {},
   "source": [
    "La distribucion predictiva a posteriori es una distribucion que genera predicciones para los datos utilizados al calcular la posterior. \n",
    "La diferencia principal con la posterior es que la segunda es una distribucion con dominio en los parametros del modelo, mientras que la primera es una distribucion con dominio en los datos. Matematicamente la posterior predictiva es $P(\\~{y} | \\theta)$ mientras que la posterior es $P(\\theta | y)$"
   ]
  },
  {
   "cell_type": "markdown",
   "metadata": {},
   "source": [
    "\n",
    "5) Una pizzería reparte folletos con descuentos en la vía publica. De los 3330 folletos repartidos, 843 fueron utilizados por clientes para comprar pizzas. La probabilidad de conversión, $\\theta$, representa la probabilidad de que un cliente que recibió el folleto realice una compra. \n",
    "\n",
    "La probabilidad a posteriori de $\\theta$ resultó ser $\\text{Beta}(847.5, 2491.5)$.\n",
    "\n",
    "a) ¿Cuál es la distribución _a priori_ utilizada? \n",
    "\n",
    "b) ¿Qué concepción previa representa el _a priori_ utilizado?"
   ]
  },
  {
   "cell_type": "markdown",
   "metadata": {},
   "source": [
    "a) En este caso, como la posterior parecer ser un modelo Beta-Binomial, entiendo que el prior es una Beta(a,b). Cuanto valen estos parametros? \n",
    "\n",
    "Sabiendo que el modelo Beta-Binomial tiene por posterior una $Beta(a_p + y, b_p + N - y  )$, donde $a_p$ y $b_p$ son los parametros del prior $Beta(a_p,b_p)$ y N es la cantidad de experimentos de la likelihood $Binomial(N,p)$ e y es la cantidad de exitos de esos N experimentos; tenemos:\n",
    "$$847.5 = a_p + y$$\n",
    "$$847.5 = a_p + 843$$ \n",
    "$$a_p = 4.5$$\n",
    "\n",
    "$$2491.5 = b_p + N - y$$\n",
    "$$2491.5 = b_p + 3330  - 843 $$\n",
    "$$ b_p = 4.5$$\n",
    "\n",
    "Por lo tanto, el prior es Beta(4.5,4.5)\n",
    "\n",
    "\n",
    "b) el prior seleccionado representa una distribucion normal con media 0.5, con una varianza bastante grande."
   ]
  }
 ],
 "metadata": {
  "kernelspec": {
   "display_name": "estadistica2",
   "language": "python",
   "name": "python3"
  },
  "language_info": {
   "codemirror_mode": {
    "name": "ipython",
    "version": 3
   },
   "file_extension": ".py",
   "mimetype": "text/x-python",
   "name": "python",
   "nbconvert_exporter": "python",
   "pygments_lexer": "ipython3",
   "version": "3.12.5"
  }
 },
 "nbformat": 4,
 "nbformat_minor": 2
}
